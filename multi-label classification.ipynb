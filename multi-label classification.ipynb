{
 "cells": [
  {
   "cell_type": "code",
   "execution_count": 62,
   "metadata": {},
   "outputs": [],
   "source": [
    "import numpy as np\n",
    "import torch\n",
    "from PIL import Image\n",
    "import torchvision.transforms as transforms\n",
    "import pandas as pd\n",
    "import os\n",
    "from torch import nn\n",
    "from matplotlib import pyplot as plt\n",
    "from torchvision.datasets import ImageFolder\n",
    "from torch.utils.data import DataLoader"
   ]
  },
  {
   "cell_type": "code",
   "execution_count": 33,
   "metadata": {},
   "outputs": [
    {
     "name": "stdout",
     "output_type": "stream",
     "text": [
      "2.3.0+cu118\n"
     ]
    }
   ],
   "source": [
    "print(torch.__version__)"
   ]
  },
  {
   "cell_type": "code",
   "execution_count": 34,
   "metadata": {},
   "outputs": [
    {
     "name": "stdout",
     "output_type": "stream",
     "text": [
      "We are using GPU.\n"
     ]
    }
   ],
   "source": [
    "use_cuda = True if torch.cuda.is_available() else False\n",
    "device = torch.device(\"cuda\" if torch.cuda.is_available() else \"cpu\")\n",
    "print('We are using GPU.' if use_cuda else 'We are using CPU.')"
   ]
  },
  {
   "cell_type": "code",
   "execution_count": 70,
   "metadata": {},
   "outputs": [],
   "source": [
    "class CustomImageFolder(torch.utils.data.Dataset):\n",
    "    def __init__(self, root, csv_file, transform=None, target_transform=None):\n",
    "        self.root = root\n",
    "        self.df = pd.read_csv(csv_file, header=0, on_bad_lines='skip')\n",
    "        self.transform = transform\n",
    "        self.target_transform = target_transform\n",
    "\n",
    "    def parse_labels(self, label_str):\n",
    "        label_list = label_str.split()\n",
    "        label_list = [int(label) for label in label_list]\n",
    "        return label_list\n",
    "\n",
    "    def __getitem__(self, index):\n",
    "        img_path = os.path.join(self.root, self.df.iloc[index, 0])\n",
    "        label_str = self.df.iloc[index, 1] \n",
    "\n",
    "        img = Image.open(img_path).convert('RGB')\n",
    "\n",
    "        if self.transform is not None:\n",
    "            img = self.transform(img)\n",
    "        \n",
    "        label = self.parse_labels(label_str)\n",
    "\n",
    "        if self.target_transform is not None:\n",
    "            label = self.target_transform(label)\n",
    "\n",
    "        return img, label\n",
    "\n",
    "    def __len__(self):\n",
    "        return len(self.df)\n",
    "    \n",
    "root = \"COMP5329S1A2Dataset/data\"\n",
    "csv_file = \"COMP5329S1A2Dataset/train.csv\"\n",
    "\n",
    "transform = transforms.Compose([\n",
    "    transforms.Resize((224, 224)),\n",
    "    transforms.ToTensor(),\n",
    "])\n",
    "\n",
    "dataset = CustomImageFolder(root=root, csv_file=csv_file, transform=transform)"
   ]
  },
  {
   "cell_type": "code",
   "execution_count": 72,
   "metadata": {},
   "outputs": [
    {
     "name": "stdout",
     "output_type": "stream",
     "text": [
      "Sample 0\n",
      "Image shape: torch.Size([3, 224, 224])\n",
      "Label: [1]\n",
      "\n",
      "Sample 1\n",
      "Image shape: torch.Size([3, 224, 224])\n",
      "Label: [1, 19]\n",
      "\n",
      "Sample 2\n",
      "Image shape: torch.Size([3, 224, 224])\n",
      "Label: [1]\n",
      "\n",
      "Sample 3\n",
      "Image shape: torch.Size([3, 224, 224])\n",
      "Label: [8, 3, 13]\n",
      "\n",
      "Sample 4\n",
      "Image shape: torch.Size([3, 224, 224])\n",
      "Label: [8, 3, 7]\n",
      "\n"
     ]
    }
   ],
   "source": [
    "for i in range(5):\n",
    "    sample = dataset[i]\n",
    "    print(\"Sample\", i)\n",
    "    print(\"Image shape:\", sample[0].shape)\n",
    "    print(\"Label:\", sample[1])\n",
    "    print()"
   ]
  },
  {
   "cell_type": "code",
   "execution_count": 9,
   "metadata": {},
   "outputs": [],
   "source": [
    "class AlexNet(nn.Module):\n",
    "\n",
    "    def __init__(self, num_classes=1000, stem_stride=4):\n",
    "        # invoke super class initialisation method\n",
    "        super(AlexNet, self).__init__()\n",
    "\n",
    "        # define the CNN:\n",
    "        # 1. define feature extraction layers\n",
    "        self.features = nn.Sequential(\n",
    "            # conv-relu-pooling\n",
    "            nn.Conv2d(3, 64, kernel_size=11, stride=stem_stride, padding=2),\n",
    "            nn.ReLU(inplace=True),\n",
    "            nn.MaxPool2d(kernel_size=3, stride=2),\n",
    "            # conv-relu-pooling\n",
    "            nn.Conv2d(64, 192, kernel_size=5, padding=2),\n",
    "            nn.ReLU(inplace=True),\n",
    "            nn.MaxPool2d(kernel_size=3, stride=2),\n",
    "            # conv-relu-conv-relu-conv-relu-pooling\n",
    "            nn.Conv2d(192, 384, kernel_size=3, padding=1),\n",
    "            nn.ReLU(inplace=True),\n",
    "            nn.Conv2d(384, 256, kernel_size=3, padding=1),\n",
    "            nn.ReLU(inplace=True),\n",
    "            nn.Conv2d(256, 256, kernel_size=3, padding=1),\n",
    "            nn.ReLU(inplace=True),\n",
    "            nn.MaxPool2d(kernel_size=3, stride=2),\n",
    "        )\n",
    "        # 2. define average pooling layer\n",
    "        self.avgpool = nn.AdaptiveAvgPool2d((6, 6))\n",
    "        # 3. define fully connected layers\n",
    "        self.classifier = nn.Sequential(\n",
    "            nn.Dropout(),                   # use dropout\n",
    "            nn.Linear(256 * 6 * 6, 4096),\n",
    "            nn.ReLU(inplace=True),\n",
    "            nn.Dropout(),                   # use dropout\n",
    "            nn.Linear(4096, 4096),\n",
    "            nn.ReLU(inplace=True),\n",
    "            nn.Linear(4096, num_classes),\n",
    "        )\n",
    "\n",
    "    # define forward-propagation\n",
    "    def forward(self, x):\n",
    "        # feature extraction\n",
    "        x = self.features(x)\n",
    "        # adaptive pooling\n",
    "        x = self.avgpool(x)\n",
    "        # flat the feature map\n",
    "        x = torch.flatten(x, 1)\n",
    "        # classification\n",
    "        x = self.classifier(x)\n",
    "        return x\n",
    "\n",
    "    # back-propagation is handled by PyTorch"
   ]
  }
 ],
 "metadata": {
  "kernelspec": {
   "display_name": "ft",
   "language": "python",
   "name": "python3"
  },
  "language_info": {
   "codemirror_mode": {
    "name": "ipython",
    "version": 3
   },
   "file_extension": ".py",
   "mimetype": "text/x-python",
   "name": "python",
   "nbconvert_exporter": "python",
   "pygments_lexer": "ipython3",
   "version": "3.8.18"
  }
 },
 "nbformat": 4,
 "nbformat_minor": 2
}
